{
 "cells": [
  {
   "cell_type": "code",
   "execution_count": 3,
   "id": "78adcf85",
   "metadata": {},
   "outputs": [
    {
     "name": "stdout",
     "output_type": "stream",
     "text": [
      "23/03/04 10:21:42 WARN Utils: Your hostname, avijit-HP-Laptop-15q-bu0xx resolves to a loopback address: 127.0.1.1; using 192.168.18.7 instead (on interface wlo1)\n",
      "23/03/04 10:21:42 WARN Utils: Set SPARK_LOCAL_IP if you need to bind to another address\n"
     ]
    },
    {
     "name": "stderr",
     "output_type": "stream",
     "text": [
      "Setting default log level to \"WARN\".\n",
      "To adjust logging level use sc.setLogLevel(newLevel). For SparkR, use setLogLevel(newLevel).\n"
     ]
    },
    {
     "name": "stdout",
     "output_type": "stream",
     "text": [
      "23/03/04 10:21:45 WARN NativeCodeLoader: Unable to load native-hadoop library for your platform... using builtin-java classes where applicable\n"
     ]
    }
   ],
   "source": [
    "from pyspark.sql import SparkSession\n",
    "spark = SparkSession.builder.appName('Avi').getOrCreate()"
   ]
  },
  {
   "cell_type": "code",
   "execution_count": 7,
   "id": "6a2d3358",
   "metadata": {},
   "outputs": [],
   "source": [
    "flight_df = spark.read.format('csv').option(\"inferschema\",\"true\").option(\"header\", \"true\").load(\"./data/2015-summary.csv\")"
   ]
  },
  {
   "cell_type": "code",
   "execution_count": 8,
   "id": "97b72525",
   "metadata": {},
   "outputs": [
    {
     "name": "stdout",
     "output_type": "stream",
     "text": [
      "root\n",
      " |-- DEST_COUNTRY_NAME: string (nullable = true)\n",
      " |-- ORIGIN_COUNTRY_NAME: string (nullable = true)\n",
      " |-- count: integer (nullable = true)\n",
      "\n"
     ]
    }
   ],
   "source": [
    "flight_df.printSchema()"
   ]
  },
  {
   "cell_type": "code",
   "execution_count": 9,
   "id": "5b74f5c9",
   "metadata": {},
   "outputs": [
    {
     "data": {
      "text/plain": [
       "StructType([StructField('DEST_COUNTRY_NAME', StringType(), True), StructField('ORIGIN_COUNTRY_NAME', StringType(), True), StructField('count', IntegerType(), True)])"
      ]
     },
     "execution_count": 9,
     "metadata": {},
     "output_type": "execute_result"
    }
   ],
   "source": [
    "spark.read.format('csv').option(\"inferschema\",\"true\").option(\"header\", \"true\").load(\"./data/2015-summary.csv\").schema"
   ]
  },
  {
   "cell_type": "code",
   "execution_count": 14,
   "id": "e960c08c",
   "metadata": {},
   "outputs": [],
   "source": [
    "from pyspark.sql.types import StructType,StructField,StringType,LongType"
   ]
  },
  {
   "cell_type": "code",
   "execution_count": 15,
   "id": "3cc66ef8",
   "metadata": {},
   "outputs": [],
   "source": [
    "manual_schema = StructType(\n",
    "[\n",
    "    StructField(\"DEST_COUNTRY_NAME\",StringType(),True),\n",
    "    StructField(\"ORIGIN_COUNTRY_NAME\",StringType(),True),\n",
    "    StructField(\"count\",LongType(),False,metadata={\"hello\":\"world\"})\n",
    "    \n",
    "])\n",
    "\n",
    "flight_df = spark.read.format(\"csv\").option(\"header\",'true').schema(manual_schema).load(\"./data/2015-summary.csv\")"
   ]
  },
  {
   "cell_type": "code",
   "execution_count": 17,
   "id": "4eb4c16d",
   "metadata": {},
   "outputs": [
    {
     "name": "stdout",
     "output_type": "stream",
     "text": [
      "+--------------------+-------------------+-----+\n",
      "|   DEST_COUNTRY_NAME|ORIGIN_COUNTRY_NAME|count|\n",
      "+--------------------+-------------------+-----+\n",
      "|       United States|            Romania|   15|\n",
      "|       United States|            Croatia|    1|\n",
      "|       United States|            Ireland|  344|\n",
      "|               Egypt|      United States|   15|\n",
      "|       United States|              India|   62|\n",
      "|       United States|          Singapore|    1|\n",
      "|       United States|            Grenada|   62|\n",
      "|          Costa Rica|      United States|  588|\n",
      "|             Senegal|      United States|   40|\n",
      "|             Moldova|      United States|    1|\n",
      "|       United States|       Sint Maarten|  325|\n",
      "|       United States|   Marshall Islands|   39|\n",
      "|              Guyana|      United States|   64|\n",
      "|               Malta|      United States|    1|\n",
      "|            Anguilla|      United States|   41|\n",
      "|             Bolivia|      United States|   30|\n",
      "|       United States|           Paraguay|    6|\n",
      "|             Algeria|      United States|    4|\n",
      "|Turks and Caicos ...|      United States|  230|\n",
      "|       United States|          Gibraltar|    1|\n",
      "+--------------------+-------------------+-----+\n",
      "only showing top 20 rows\n",
      "\n"
     ]
    }
   ],
   "source": [
    "flight_df.show()"
   ]
  },
  {
   "cell_type": "code",
   "execution_count": 18,
   "id": "18124969",
   "metadata": {},
   "outputs": [],
   "source": [
    "# columns are logical transformations that simply represent a value computed on per record basis simply based on a value \n",
    "from pyspark.sql.functions import col,column"
   ]
  },
  {
   "cell_type": "code",
   "execution_count": 19,
   "id": "d4316924",
   "metadata": {},
   "outputs": [
    {
     "data": {
      "text/plain": [
       "Column<'someColumnName'>"
      ]
     },
     "execution_count": 19,
     "metadata": {},
     "output_type": "execute_result"
    }
   ],
   "source": [
    "col('someColumnName')"
   ]
  },
  {
   "cell_type": "code",
   "execution_count": 20,
   "id": "e87ceed6",
   "metadata": {},
   "outputs": [
    {
     "data": {
      "text/plain": [
       "Column<'someColumnName'>"
      ]
     },
     "execution_count": 20,
     "metadata": {},
     "output_type": "execute_result"
    }
   ],
   "source": [
    "column('someColumnName')"
   ]
  },
  {
   "cell_type": "markdown",
   "id": "ef988f80",
   "metadata": {},
   "source": [
    "Expression: an expression is a set of transformations on one or more values in a record in a Dataframe.\n",
    "\n",
    "Spark Compiles these to a logical tree specifying the order of transformations"
   ]
  },
  {
   "cell_type": "code",
   "execution_count": 29,
   "id": "fd8ae4b8",
   "metadata": {},
   "outputs": [
    {
     "data": {
      "text/plain": [
       "Column<'((((someCol + 5) * 200) - 6) < otherCol)'>"
      ]
     },
     "execution_count": 29,
     "metadata": {},
     "output_type": "execute_result"
    }
   ],
   "source": [
    "from pyspark.sql.functions import expr\n",
    "expr(\"(((someCol+5)*200)-6) < otherCol\")"
   ]
  },
  {
   "cell_type": "markdown",
   "id": "92b4d84f",
   "metadata": {},
   "source": [
    "above code looks like sql code but the execution will be same as spark builds a logical tree prior to execution"
   ]
  },
  {
   "cell_type": "code",
   "execution_count": 30,
   "id": "6a8c39a6",
   "metadata": {},
   "outputs": [
    {
     "data": {
      "text/plain": [
       "['DEST_COUNTRY_NAME', 'ORIGIN_COUNTRY_NAME', 'count']"
      ]
     },
     "execution_count": 30,
     "metadata": {},
     "output_type": "execute_result"
    }
   ],
   "source": [
    "flight_df.columns"
   ]
  },
  {
   "cell_type": "code",
   "execution_count": 31,
   "id": "88313de7",
   "metadata": {},
   "outputs": [
    {
     "data": {
      "text/plain": [
       "Row(DEST_COUNTRY_NAME='United States', ORIGIN_COUNTRY_NAME='Romania', count=15)"
      ]
     },
     "execution_count": 31,
     "metadata": {},
     "output_type": "execute_result"
    }
   ],
   "source": [
    "flight_df.first()"
   ]
  },
  {
   "cell_type": "markdown",
   "id": "d9292909",
   "metadata": {},
   "source": [
    "# Creating Rows\n"
   ]
  },
  {
   "cell_type": "code",
   "execution_count": 33,
   "id": "f6e27dc7",
   "metadata": {},
   "outputs": [],
   "source": [
    "from pyspark.sql import Row\n",
    "my_row = Row(\"hello\",None,1,False)"
   ]
  },
  {
   "cell_type": "code",
   "execution_count": 34,
   "id": "3d5e6b8d",
   "metadata": {},
   "outputs": [
    {
     "data": {
      "text/plain": [
       "'hello'"
      ]
     },
     "execution_count": 34,
     "metadata": {},
     "output_type": "execute_result"
    }
   ],
   "source": [
    "my_row[0]"
   ]
  },
  {
   "cell_type": "code",
   "execution_count": 36,
   "id": "db39823e",
   "metadata": {},
   "outputs": [
    {
     "data": {
      "text/plain": [
       "1"
      ]
     },
     "execution_count": 36,
     "metadata": {},
     "output_type": "execute_result"
    }
   ],
   "source": [
    "my_row[2]"
   ]
  },
  {
   "cell_type": "markdown",
   "id": "4838d5a4",
   "metadata": {},
   "source": [
    "# DataFrame Transformations"
   ]
  },
  {
   "cell_type": "markdown",
   "id": "f5849413",
   "metadata": {},
   "source": [
    "# Creating a DataFrame from Set of Rows"
   ]
  },
  {
   "cell_type": "code",
   "execution_count": 39,
   "id": "e72e9152",
   "metadata": {},
   "outputs": [],
   "source": [
    "from pyspark.sql import Row\n",
    "from pyspark.sql.types import StructType,StructField,StringType,LongType\n",
    "my_schema = StructType([\n",
    "    StructField('some',StringType(),True),\n",
    "    StructField(('col'),StringType(),True),\n",
    "    StructField(\"names\",LongType(),False)\n",
    "])\n",
    "\n",
    "my_row = Row(\"hello\",None,1)\n",
    "my_df = spark.createDataFrame([my_row],my_schema)"
   ]
  },
  {
   "cell_type": "code",
   "execution_count": 40,
   "id": "9d45c88c",
   "metadata": {},
   "outputs": [
    {
     "name": "stdout",
     "output_type": "stream",
     "text": [
      "+-----+----+-----+\n",
      "| some| col|names|\n",
      "+-----+----+-----+\n",
      "|hello|null|    1|\n",
      "+-----+----+-----+\n",
      "\n"
     ]
    }
   ],
   "source": [
    "my_df.show()"
   ]
  },
  {
   "cell_type": "code",
   "execution_count": 42,
   "id": "ef9bc595",
   "metadata": {},
   "outputs": [
    {
     "name": "stdout",
     "output_type": "stream",
     "text": [
      "+-----------------+-------------------+\n",
      "|DEST_COUNTRY_NAME|ORIGIN_COUNTRY_NAME|\n",
      "+-----------------+-------------------+\n",
      "|    United States|            Romania|\n",
      "|    United States|            Croatia|\n",
      "+-----------------+-------------------+\n",
      "only showing top 2 rows\n",
      "\n"
     ]
    }
   ],
   "source": [
    "flight_df.select(\"DEST_COUNTRY_NAME\",\"ORIGIN_COUNTRY_NAME\").show(2)\n"
   ]
  },
  {
   "cell_type": "code",
   "execution_count": 44,
   "id": "67515e7c",
   "metadata": {},
   "outputs": [
    {
     "name": "stdout",
     "output_type": "stream",
     "text": [
      "+-----------------+\n",
      "|DEST_COUNTRY_NAME|\n",
      "+-----------------+\n",
      "|    United States|\n",
      "|    United States|\n",
      "+-----------------+\n",
      "only showing top 2 rows\n",
      "\n"
     ]
    }
   ],
   "source": [
    "flight_df.select(expr(\"DEST_COUNTRY_NAME as destination\").alias('DEST_COUNTRY_NAME')).show(2)\n"
   ]
  },
  {
   "cell_type": "code",
   "execution_count": 45,
   "id": "3debe575",
   "metadata": {},
   "outputs": [
    {
     "name": "stdout",
     "output_type": "stream",
     "text": [
      "+-------------+-----------------+\n",
      "|  destination|DEST_COUNTRY_NAME|\n",
      "+-------------+-----------------+\n",
      "|United States|    United States|\n",
      "|United States|    United States|\n",
      "+-------------+-----------------+\n",
      "only showing top 2 rows\n",
      "\n"
     ]
    }
   ],
   "source": [
    "flight_df.selectExpr(\"DEST_COUNTRY_NAME as destination\",'DEST_COUNTRY_NAME').show(2)\n"
   ]
  },
  {
   "cell_type": "code",
   "execution_count": 48,
   "id": "2872a344",
   "metadata": {},
   "outputs": [
    {
     "name": "stdout",
     "output_type": "stream",
     "text": [
      "+--------------------+-------------------+-----+--------------+\n",
      "|   DEST_COUNTRY_NAME|ORIGIN_COUNTRY_NAME|count|within_country|\n",
      "+--------------------+-------------------+-----+--------------+\n",
      "|       United States|            Romania|   15|         false|\n",
      "|       United States|            Croatia|    1|         false|\n",
      "|       United States|            Ireland|  344|         false|\n",
      "|               Egypt|      United States|   15|         false|\n",
      "|       United States|              India|   62|         false|\n",
      "|       United States|          Singapore|    1|         false|\n",
      "|       United States|            Grenada|   62|         false|\n",
      "|          Costa Rica|      United States|  588|         false|\n",
      "|             Senegal|      United States|   40|         false|\n",
      "|             Moldova|      United States|    1|         false|\n",
      "|       United States|       Sint Maarten|  325|         false|\n",
      "|       United States|   Marshall Islands|   39|         false|\n",
      "|              Guyana|      United States|   64|         false|\n",
      "|               Malta|      United States|    1|         false|\n",
      "|            Anguilla|      United States|   41|         false|\n",
      "|             Bolivia|      United States|   30|         false|\n",
      "|       United States|           Paraguay|    6|         false|\n",
      "|             Algeria|      United States|    4|         false|\n",
      "|Turks and Caicos ...|      United States|  230|         false|\n",
      "|       United States|          Gibraltar|    1|         false|\n",
      "+--------------------+-------------------+-----+--------------+\n",
      "only showing top 20 rows\n",
      "\n"
     ]
    }
   ],
   "source": [
    "flight_df.selectExpr(\"*\", \"(DEST_COUNTRY_NAME = ORIGIN_COUNTRY_NAME) as within_country\").show()"
   ]
  },
  {
   "cell_type": "code",
   "execution_count": 49,
   "id": "0a82c25c",
   "metadata": {},
   "outputs": [
    {
     "name": "stdout",
     "output_type": "stream",
     "text": [
      "+-----------+---------------------------------+\n",
      "| avg(count)|count(DISTINCT DEST_COUNTRY_NAME)|\n",
      "+-----------+---------------------------------+\n",
      "|1770.765625|                              132|\n",
      "+-----------+---------------------------------+\n",
      "\n"
     ]
    }
   ],
   "source": [
    "flight_df.selectExpr(\"avg(count)\",\"count(distinct(DEST_COUNTRY_NAME))\").show()"
   ]
  },
  {
   "cell_type": "markdown",
   "id": "2963a1e6",
   "metadata": {},
   "source": [
    "# Converting to Spark Types Literals"
   ]
  },
  {
   "cell_type": "code",
   "execution_count": 50,
   "id": "0ff71923",
   "metadata": {},
   "outputs": [
    {
     "name": "stdout",
     "output_type": "stream",
     "text": [
      "+-----------------+-------------------+-----+---+\n",
      "|DEST_COUNTRY_NAME|ORIGIN_COUNTRY_NAME|count|one|\n",
      "+-----------------+-------------------+-----+---+\n",
      "|    United States|            Romania|   15|  1|\n",
      "|    United States|            Croatia|    1|  1|\n",
      "+-----------------+-------------------+-----+---+\n",
      "only showing top 2 rows\n",
      "\n"
     ]
    }
   ],
   "source": [
    "from pyspark.sql.functions import lit\n",
    "flight_df.select(expr(\"*\"),lit(1).alias(\"one\")).show(2)"
   ]
  },
  {
   "cell_type": "code",
   "execution_count": 51,
   "id": "a7e7ec69",
   "metadata": {},
   "outputs": [
    {
     "name": "stdout",
     "output_type": "stream",
     "text": [
      "+-----------------+-------------------+-----+---+\n",
      "|DEST_COUNTRY_NAME|ORIGIN_COUNTRY_NAME|count|one|\n",
      "+-----------------+-------------------+-----+---+\n",
      "|    United States|            Romania|   15|  1|\n",
      "|    United States|            Croatia|    1|  1|\n",
      "+-----------------+-------------------+-----+---+\n",
      "only showing top 2 rows\n",
      "\n"
     ]
    }
   ],
   "source": [
    "flight_df.selectExpr(\"*\",\"1 as one\").show(2)"
   ]
  },
  {
   "cell_type": "markdown",
   "id": "95510910",
   "metadata": {},
   "source": [
    "# adding a column"
   ]
  },
  {
   "cell_type": "code",
   "execution_count": 52,
   "id": "bcb94e0a",
   "metadata": {},
   "outputs": [
    {
     "name": "stdout",
     "output_type": "stream",
     "text": [
      "+-----------------+-------------------+-----+----------+\n",
      "|DEST_COUNTRY_NAME|ORIGIN_COUNTRY_NAME|count|number_one|\n",
      "+-----------------+-------------------+-----+----------+\n",
      "|    United States|            Romania|   15|         1|\n",
      "|    United States|            Croatia|    1|         1|\n",
      "+-----------------+-------------------+-----+----------+\n",
      "only showing top 2 rows\n",
      "\n"
     ]
    }
   ],
   "source": [
    "flight_df.withColumn(\"number_one\",lit(1)).show(2)"
   ]
  },
  {
   "cell_type": "code",
   "execution_count": 53,
   "id": "fdf3fb80",
   "metadata": {},
   "outputs": [
    {
     "name": "stdout",
     "output_type": "stream",
     "text": [
      "+-----------------+-------------------+-----+--------------+\n",
      "|DEST_COUNTRY_NAME|ORIGIN_COUNTRY_NAME|count|within_country|\n",
      "+-----------------+-------------------+-----+--------------+\n",
      "|    United States|            Romania|   15|         false|\n",
      "|    United States|            Croatia|    1|         false|\n",
      "+-----------------+-------------------+-----+--------------+\n",
      "only showing top 2 rows\n",
      "\n"
     ]
    }
   ],
   "source": [
    "flight_df.withColumn(\"within_country\",expr(\"DEST_COUNTRY_NAME = ORIGIN_COUNTRY_NAME\")).show(2)"
   ]
  },
  {
   "cell_type": "code",
   "execution_count": 54,
   "id": "15a14006",
   "metadata": {},
   "outputs": [
    {
     "data": {
      "text/plain": [
       "['dest', 'ORIGIN_COUNTRY_NAME', 'count']"
      ]
     },
     "execution_count": 54,
     "metadata": {},
     "output_type": "execute_result"
    }
   ],
   "source": [
    "flight_df.withColumnRenamed(\"DEST_COUNTRY_NAME\",\"dest\").columns"
   ]
  },
  {
   "cell_type": "code",
   "execution_count": 55,
   "id": "d7d32fa9",
   "metadata": {},
   "outputs": [
    {
     "data": {
      "text/plain": [
       "'\\nparindoko manzil milegi humesha ye phaile huen unke pankh bolte hain...\\nWohin log rehte hain khamosh aksar zamaneme jinke hunar bolte hain...\\n\\n'"
      ]
     },
     "execution_count": 55,
     "metadata": {},
     "output_type": "execute_result"
    }
   ],
   "source": [
    "\"\"\"\n",
    "parindoko manzil milegi humesha ye phaile huen unke pankh bolte hain...\n",
    "Wohin log rehte hain khamosh aksar zamaneme jinke hunar bolte hain...\n",
    "\n",
    "\"\"\""
   ]
  },
  {
   "cell_type": "markdown",
   "id": "b7518ac9",
   "metadata": {},
   "source": [
    "# Filtering Rows"
   ]
  },
  {
   "cell_type": "code",
   "execution_count": 58,
   "id": "3fae526a",
   "metadata": {},
   "outputs": [
    {
     "name": "stdout",
     "output_type": "stream",
     "text": [
      "+-----------------+-------------------+-----+\n",
      "|DEST_COUNTRY_NAME|ORIGIN_COUNTRY_NAME|count|\n",
      "+-----------------+-------------------+-----+\n",
      "|    United States|            Croatia|    1|\n",
      "|    United States|          Singapore|    1|\n",
      "+-----------------+-------------------+-----+\n",
      "only showing top 2 rows\n",
      "\n"
     ]
    }
   ],
   "source": [
    "flight_df.where(\"count<2\").show(2)"
   ]
  },
  {
   "cell_type": "code",
   "execution_count": 63,
   "id": "e15fdea1",
   "metadata": {},
   "outputs": [
    {
     "name": "stdout",
     "output_type": "stream",
     "text": [
      "+-----------------+-------------------+-----+\n",
      "|DEST_COUNTRY_NAME|ORIGIN_COUNTRY_NAME|count|\n",
      "+-----------------+-------------------+-----+\n",
      "|    United States|            Croatia|    1|\n",
      "+-----------------+-------------------+-----+\n",
      "\n"
     ]
    }
   ],
   "source": [
    "flight_df.where(\"count<2\").where(col(\"ORIGIN_COUNTRY_NAME\")==\"Croatia\").show(2)"
   ]
  },
  {
   "cell_type": "markdown",
   "id": "ec736b65",
   "metadata": {},
   "source": [
    "# Getting Unique Rows"
   ]
  },
  {
   "cell_type": "code",
   "execution_count": 64,
   "id": "6d41d0a7",
   "metadata": {},
   "outputs": [
    {
     "data": {
      "text/plain": [
       "256"
      ]
     },
     "execution_count": 64,
     "metadata": {},
     "output_type": "execute_result"
    }
   ],
   "source": [
    "flight_df.select(\"ORIGIN_COUNTRY_NAME\",\"DEST_COUNTRY_NAME\").distinct().count()"
   ]
  },
  {
   "cell_type": "code",
   "execution_count": 65,
   "id": "7b57136c",
   "metadata": {},
   "outputs": [
    {
     "name": "stdout",
     "output_type": "stream",
     "text": [
      "+-------------------+--------------------+\n",
      "|ORIGIN_COUNTRY_NAME|   DEST_COUNTRY_NAME|\n",
      "+-------------------+--------------------+\n",
      "|            Romania|       United States|\n",
      "|            Croatia|       United States|\n",
      "|            Ireland|       United States|\n",
      "|      United States|               Egypt|\n",
      "|              India|       United States|\n",
      "|          Singapore|       United States|\n",
      "|            Grenada|       United States|\n",
      "|      United States|          Costa Rica|\n",
      "|      United States|             Senegal|\n",
      "|      United States|             Moldova|\n",
      "|       Sint Maarten|       United States|\n",
      "|   Marshall Islands|       United States|\n",
      "|      United States|              Guyana|\n",
      "|      United States|               Malta|\n",
      "|      United States|            Anguilla|\n",
      "|      United States|             Bolivia|\n",
      "|           Paraguay|       United States|\n",
      "|      United States|             Algeria|\n",
      "|      United States|Turks and Caicos ...|\n",
      "|          Gibraltar|       United States|\n",
      "+-------------------+--------------------+\n",
      "only showing top 20 rows\n",
      "\n"
     ]
    }
   ],
   "source": [
    "flight_df.select(\"ORIGIN_COUNTRY_NAME\",\"DEST_COUNTRY_NAME\").distinct().show()"
   ]
  },
  {
   "cell_type": "markdown",
   "id": "0c088ed7",
   "metadata": {},
   "source": [
    "# Random Samples \n"
   ]
  },
  {
   "cell_type": "code",
   "execution_count": 67,
   "id": "27153ca2",
   "metadata": {},
   "outputs": [
    {
     "data": {
      "text/plain": [
       "138"
      ]
     },
     "execution_count": 67,
     "metadata": {},
     "output_type": "execute_result"
    }
   ],
   "source": [
    "seed = 5 \n",
    "withReplacment = False\n",
    "fraction = 0.5\n",
    "flight_df.sample(withReplacment,fraction,seed).count()"
   ]
  },
  {
   "cell_type": "markdown",
   "id": "ddd844c9",
   "metadata": {},
   "source": [
    "# Random Splits "
   ]
  },
  {
   "cell_type": "code",
   "execution_count": 68,
   "id": "6dc0dc02",
   "metadata": {},
   "outputs": [],
   "source": [
    "flight_dfs = flight_df.randomSplit([0.25,0.75],seed)"
   ]
  },
  {
   "cell_type": "code",
   "execution_count": 71,
   "id": "f0a6a1c2",
   "metadata": {},
   "outputs": [
    {
     "data": {
      "text/plain": [
       "71"
      ]
     },
     "execution_count": 71,
     "metadata": {},
     "output_type": "execute_result"
    }
   ],
   "source": [
    "flight_dfs[0].count()"
   ]
  },
  {
   "cell_type": "markdown",
   "id": "d81dd6f3",
   "metadata": {},
   "source": [
    "# concatenating and appending rows "
   ]
  },
  {
   "cell_type": "code",
   "execution_count": null,
   "id": "9512e5b1",
   "metadata": {},
   "outputs": [],
   "source": [
    "#df.union(new_df)"
   ]
  },
  {
   "cell_type": "markdown",
   "id": "048393a8",
   "metadata": {},
   "source": [
    "# Sorting Rows"
   ]
  },
  {
   "cell_type": "code",
   "execution_count": 73,
   "id": "a55cbd91",
   "metadata": {},
   "outputs": [
    {
     "name": "stdout",
     "output_type": "stream",
     "text": [
      "+-----------------+-------------------+-----+\n",
      "|DEST_COUNTRY_NAME|ORIGIN_COUNTRY_NAME|count|\n",
      "+-----------------+-------------------+-----+\n",
      "|          Moldova|      United States|    1|\n",
      "|    United States|            Croatia|    1|\n",
      "+-----------------+-------------------+-----+\n",
      "only showing top 2 rows\n",
      "\n"
     ]
    }
   ],
   "source": [
    "flight_df.sort('count').show(2)"
   ]
  },
  {
   "cell_type": "code",
   "execution_count": 76,
   "id": "cce75a6d",
   "metadata": {},
   "outputs": [
    {
     "name": "stdout",
     "output_type": "stream",
     "text": [
      "+--------------------+-------------------+-----+\n",
      "|   DEST_COUNTRY_NAME|ORIGIN_COUNTRY_NAME|count|\n",
      "+--------------------+-------------------+-----+\n",
      "|        Burkina Faso|      United States|    1|\n",
      "|       Cote d'Ivoire|      United States|    1|\n",
      "|              Cyprus|      United States|    1|\n",
      "|            Djibouti|      United States|    1|\n",
      "|           Indonesia|      United States|    1|\n",
      "|                Iraq|      United States|    1|\n",
      "|              Kosovo|      United States|    1|\n",
      "|               Malta|      United States|    1|\n",
      "|             Moldova|      United States|    1|\n",
      "|       New Caledonia|      United States|    1|\n",
      "|Saint Vincent and...|      United States|    1|\n",
      "|            Suriname|      United States|    1|\n",
      "|       United States|            Estonia|    1|\n",
      "|       United States|   Papua New Guinea|    1|\n",
      "|       United States|             Cyprus|    1|\n",
      "|       United States|            Bahrain|    1|\n",
      "|       United States|          Lithuania|    1|\n",
      "|       United States|          Singapore|    1|\n",
      "|       United States|          Gibraltar|    1|\n",
      "|       United States|           Bulgaria|    1|\n",
      "+--------------------+-------------------+-----+\n",
      "only showing top 20 rows\n",
      "\n"
     ]
    }
   ],
   "source": [
    "flight_df.orderBy(expr(\"count desc\"),\"DEST_COUNTRY_NAME\").show()"
   ]
  },
  {
   "cell_type": "code",
   "execution_count": null,
   "id": "19d65ede",
   "metadata": {},
   "outputs": [],
   "source": []
  }
 ],
 "metadata": {
  "kernelspec": {
   "display_name": "Python 3 (ipykernel)",
   "language": "python",
   "name": "python3"
  },
  "language_info": {
   "codemirror_mode": {
    "name": "ipython",
    "version": 3
   },
   "file_extension": ".py",
   "mimetype": "text/x-python",
   "name": "python",
   "nbconvert_exporter": "python",
   "pygments_lexer": "ipython3",
   "version": "3.8.10"
  }
 },
 "nbformat": 4,
 "nbformat_minor": 5
}
